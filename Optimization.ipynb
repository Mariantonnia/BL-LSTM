{
 "cells": [
  {
   "cell_type": "code",
   "execution_count": null,
   "metadata": {},
   "outputs": [],
   "source": [
    "import numpy as np\n",
    "import pandas as pd\n",
    "import cvxpy as cp\n",
    "from pypfopt import risk_models, EfficientFrontier\n",
    "from pypfopt import black_litterman"
   ]
  },
  {
   "cell_type": "code",
   "execution_count": null,
   "metadata": {},
   "outputs": [],
   "source": [
    "precios_df = pd.read_csv('water_assets.csv', index_col='Fecha', parse_dates=True)\n",
    "capitalizacion_semanal = pd.read_csv('capitalizacion_semanal.csv', index_col='Semana', parse_dates=True)\n",
    "errores = pd.read_csv('errores.csv', index_col='Activo')\n",
    "esg_f = pd.read_csv('esg_score.csv', index_col='Activo')\n",
    "views = pd.read_csv('predicciones_df.csv', index_col='Fecha', parse_dates=True)\n",
    "tipo_interes_df = pd.read_csv('tipo_interes.csv', index_col='Fecha', parse_dates=True)"
   ]
  },
  {
   "cell_type": "code",
   "execution_count": null,
   "metadata": {},
   "outputs": [],
   "source": [
    "# Convertir la columna 'ESG Score' a tipo numérico\n",
    "esg_f['ESG Score'] = pd.to_numeric(esg_f['ESG Score'])\n",
    "# Crear un diccionario a partir del DataFrame esg_f\n",
    "esg_dict = esg_f.set_index('asset')['ESG Score'].to_dict()"
   ]
  },
  {
   "cell_type": "code",
   "execution_count": null,
   "metadata": {},
   "outputs": [],
   "source": [
    "precios_df = precios_df.fillna(method='bfill')"
   ]
  },
  {
   "cell_type": "code",
   "execution_count": null,
   "metadata": {},
   "outputs": [],
   "source": [
    "precios_medios=precios_m2.mean()\n",
    "errores_p=(1-errores/precios_medios)/100\n",
    "errores_p=errores_p[errores_p>0].fillna(0).values\n",
    "omega=np.zeros((56,56))\n",
    "np.fill_diagonal(omega, errores_p)"
   ]
  },
  {
   "cell_type": "code",
   "execution_count": null,
   "metadata": {},
   "outputs": [],
   "source": [
    "# Parámetros del modelo\n",
    "tau = 0.25  # Escalar de incertidumbre\n",
    "omega = None  # Si es None, se calculará automáticamente basado en tau y cov_matrix\n",
    "results_weights = []  \n",
    "results_rets = []   \n",
    "# Iteración semanal\n",
    "for i in range(capitalizacion_semanal.shape[0]):\n",
    "    # Datos históricos ajustados para cada iteración\n",
    "    precios_d = precios_df.iloc[:precios_df.shape[0] - 53 + i]\n",
    "    cap = capitalizacion_semanal.iloc[i]\n",
    "    mcaps = cap.to_dict()\n",
    "\n",
    "    # Calcular matriz de covarianza (sampleada y ajustada)\n",
    "    prior_cov_matrix = risk_models.sample_cov(precios_d)\n",
    "\n",
    "    # Calcular delta (aversión al riesgo) a partir de precios históricos\n",
    "    rf = tipo_interes_semanal.iloc[i] \n",
    "    delta = black_litterman.market_implied_risk_aversion(precios_df_backfilled, risk_free_rate=rf)\n",
    "    viewdict = views.iloc[i].to_numpy()\n",
    "    # Configuración de Black-Litterman con vistas absolutas\n",
    "    bl = BlackLittermanModel(\n",
    "        prior_cov_matrix,\n",
    "        absolute_views=viewdict,\n",
    "        market_caps=mcaps,\n",
    "        risk_aversion=delta,\n",
    "        tau=tau,\n",
    "        omega=omega\n",
    "    )\n",
    "    # Obtener retornos y covarianza posterior\n",
    "    posterior_rets = bl.bl_returns()  # Retornos posteriores ajustados\n",
    "    posterior_cov_matrix = bl.bl_cov()  # Covarianza posterior ajustada\n",
    "\n",
    "    \n",
    "    ef = EfficientFrontier(posterior_rets, posterior_cov_matrix, weight_bounds=(0, 0.1))\n",
    "     # Añadir restricción ESG\n",
    "    ef.add_constraint(lambda weights: cp.sum(cp.multiply(weights, list(esg_dict.values()))) >= 3)\n",
    "    # Optimización en la frontera eficiente con restricción de varianza\n",
    "    weights = ef.efficient_risk(target_volatility=0.25)  # Varianza máxima permitida (0.25)\n",
    "    clean_weights = ef.clean_weights()\n",
    "\n",
    "    # Guardar resultados\n",
    "    results_weights.append(clean_weights)\n",
    "    results_rets.append(posterior_rets)\n",
    "\n",
    "# Construcción de DataFrames con resultados\n",
    "results_weights_df = pd.DataFrame(results_weights)\n",
    "results_rets_df = pd.DataFrame(results_rets)"
   ]
  }
 ],
 "metadata": {
  "kernelspec": {
   "display_name": "Python 3",
   "language": "python",
   "name": "python3"
  },
  "language_info": {
   "codemirror_mode": {
    "name": "ipython",
    "version": 3
   },
   "file_extension": ".py",
   "mimetype": "text/x-python",
   "name": "python",
   "nbconvert_exporter": "python",
   "pygments_lexer": "ipython3",
   "version": "3.8.3"
  }
 },
 "nbformat": 4,
 "nbformat_minor": 4
}
